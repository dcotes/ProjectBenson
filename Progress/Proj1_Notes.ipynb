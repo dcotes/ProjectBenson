{
 "cells": [
  {
   "cell_type": "code",
   "execution_count": null,
   "metadata": {},
   "outputs": [],
   "source": [
    "### Drop columns\n",
    "df2 = df2.drop(['DATE', 'TIME'], axis=1)\n",
    "\n",
    "### Clean: Convert the 4 series to string if not null \n",
    "df3['Route_8'] = df3['Route_8'].apply(lambda x: \"{:.0f}\".format(x) if not pd.isnull(x) else x)\n",
    "df3['Route_9'] = df3['Route_9'].apply(lambda x: \"{:.0f}\".format(x) if not pd.isnull(x) else x)\n",
    "df3['Route_10'] = df3['Route_10'].apply(lambda x: \"{:.0f}\".format(x) if not pd.isnull(x) else x)\n",
    "df3['Route_11'] = df3['Route_11'].apply(lambda x: \"{:.0f}\".format(x) if not pd.isnull(x) else x)\n",
    "\n",
    "### Clean: Remove all whitespaces for the 7 series\n",
    "df3['Route_1'] = df3.Route_1.str.strip()\n",
    "df3['Route_2'] = df3.Route_2.str.strip()\n",
    "df3['Route_3'] = df3.Route_3.str.strip()\n",
    "df3['Route_4'] = df3.Route_4.str.strip()\n",
    "df3['Route_5'] = df3.Route_5.str.strip()\n",
    "df3['Route_6'] = df3.Route_6.str.strip()\n",
    "df3['Route_7'] = df3.Route_7.str.strip()\n",
    "\n",
    "### Concatenate lines (Routes) and create 'CnctRte'\n",
    "df3['CnctRte'] = df3['Route_1'].fillna('') + df3['Route_2'].fillna('') + df3['Route_3'].fillna('') + df3['Route_4'].fillna('') + df3['Route_5'].fillna('') + df3['Route_6'].fillna('') + df3['Route_7'].fillna('') + df3['Route_8'].fillna('') + df3['Route_9'].fillna('') + df3['Route_10'].fillna('') + df3['Route_11'].fillna('')\n",
    "\n",
    "### Different string concatenate method\n",
    "# df3['CnctRte'].str.cat(['Route_8', 'Route_9', 'Route_10', 'Route_11', 'Route_1', 'Route_2', 'Route_3', 'Route_4', 'Route_5', 'Route_6', 'Route_7'])\n",
    "\n",
    "### Returns the dimensionality of the rendered groupby\n",
    "df3.groupby(['CnctRte'])['Station_Name'].count().shape[0]\n",
    "\n",
    "\n"
   ]
  }
 ],
 "metadata": {
  "kernelspec": {
   "display_name": "Python 3",
   "language": "python",
   "name": "python3"
  },
  "language_info": {
   "codemirror_mode": {
    "name": "ipython",
    "version": 3
   },
   "file_extension": ".py",
   "mimetype": "text/x-python",
   "name": "python",
   "nbconvert_exporter": "python",
   "pygments_lexer": "ipython3",
   "version": "3.6.5"
  }
 },
 "nbformat": 4,
 "nbformat_minor": 2
}
